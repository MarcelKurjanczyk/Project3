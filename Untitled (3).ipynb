{
 "cells": [
  {
   "cell_type": "markdown",
   "id": "407e2c37-f88c-4a07-a4e9-51ef1328d6f7",
   "metadata": {},
   "source": [
    "#!/usr/bin/env python\n",
    "coding: utf-8\n",
    "# # TECHNIKI PROGRAMOWANIA - projekt 3\n",
    "# ### Marcel Kurjańczyk 197837\n",
    "# ### Radosław Plichta 198128\n",
    "# \n",
    "Wykorzystane biblioteki:\n",
    "matplotplusplus (c++)\n",
    "\n",
    "## Możliwe funckje : \n",
    "\n",
    "            -add\n",
    "           -subtract\n",
    "           -plot_sine_wave\n",
    "           -plot_cosine_wave\n",
    "           -plot_square_wave\n",
    "           -plot_sawtooth_wave\n",
    "           -plot_dft_sinus\n",
    "           -plot_dft_cosinus\n",
    "\n",
    "# # Wizualizacja wykresów 1D\n",
    "Przykłady obrazujący zaimplementowaną funkcjonalność rysowania wykresów 1d.\n",
    "\n",
    "sbe.\"function\"(Frequency,Amplitude,num_points,noisy)\n"
   ]
  },
  {
   "cell_type": "code",
   "execution_count": null,
   "id": "46d97dfd-d2f5-4044-89ae-74020e164730",
   "metadata": {},
   "outputs": [],
   "source": [
    "Sinus:"
   ]
  },
  {
   "cell_type": "code",
   "execution_count": null,
   "id": "27947b60-8a56-4144-b237-7017fd47e1f4",
   "metadata": {},
   "outputs": [],
   "source": [
    "import scikit_build_example as sbe\n",
    "sbe.plot_sine_wave(10,10,1000,0)"
   ]
  },
  {
   "cell_type": "markdown",
   "id": "9432e70b-8a5e-475a-b109-fe3e2d6990f0",
   "metadata": {},
   "source": [
    "![Sine plot](sinus1d.png)"
   ]
  },
  {
   "cell_type": "markdown",
   "id": "87ee2c56-8800-4ca2-b57d-e09a3e1b7822",
   "metadata": {},
   "source": [
    "Cosinus:"
   ]
  },
  {
   "cell_type": "code",
   "execution_count": null,
   "id": "f67362ab-ef67-43bc-9a43-70c43da6df8f",
   "metadata": {},
   "outputs": [],
   "source": [
    "import scikit_build_example as sbe\n",
    "sbe.plot_cosine_wave(10,10,1000,0)"
   ]
  },
  {
   "cell_type": "markdown",
   "id": "5a370ac6-20c9-4f90-8211-d0164d987b1a",
   "metadata": {},
   "source": [
    "![Cos plot](cosinus1d.png)"
   ]
  },
  {
   "cell_type": "markdown",
   "id": "b058a516-b071-4a5e-815c-01b16d904dc5",
   "metadata": {},
   "source": [
    "Square:"
   ]
  },
  {
   "cell_type": "code",
   "execution_count": null,
   "id": "db1ae501-e6ea-4e1a-b6a4-e405cc5fb3dd",
   "metadata": {},
   "outputs": [],
   "source": [
    "import scikit_build_example as sbe\n",
    "sbe.plot_square_wave(10,1,1000,0)"
   ]
  },
  {
   "cell_type": "markdown",
   "id": "d08a565e-a7cb-4fb4-9593-f4bf98618564",
   "metadata": {},
   "source": [
    "![square plot](square1d.png)"
   ]
  },
  {
   "cell_type": "markdown",
   "id": "ab3c373b-7d00-44f0-91ad-58dab6d05c7e",
   "metadata": {},
   "source": [
    "Sawtooth:"
   ]
  },
  {
   "cell_type": "code",
   "execution_count": null,
   "id": "eeec1d63-1245-4257-812e-21b149b7120a",
   "metadata": {},
   "outputs": [],
   "source": [
    "import scikit_build_example as sbe\n",
    "sbe.plot_sawtooth_wave(10,2,1000,0)"
   ]
  },
  {
   "cell_type": "markdown",
   "id": "d1054e55-fd17-419e-9f5a-e4665684ce99",
   "metadata": {},
   "source": [
    "![sawtooth plot](sawtooth1d.png)"
   ]
  },
  {
   "cell_type": "markdown",
   "id": "72206ce2-7908-4743-9370-5fbc783990b1",
   "metadata": {},
   "source": [
    "# # DFT(Discrete Fourier Transform):\n",
    "Przykłady obrazujące wykorzystanie DFT dla przebiegu sinusa oraz cosinusa :\n",
    "\n",
    "sbe.\"function\"(Frequency,num_points)"
   ]
  },
  {
   "cell_type": "markdown",
   "id": "7efded59-8ff5-4558-99cd-1bf4043e877a",
   "metadata": {},
   "source": [
    "Sinus:"
   ]
  },
  {
   "cell_type": "code",
   "execution_count": 1,
   "id": "3353494a-b3cd-4c6e-b8e0-35427a61c9f4",
   "metadata": {},
   "outputs": [],
   "source": [
    "import scikit_build_example as sbe\n",
    "sbe.plot_dft_sinus(10,1000)"
   ]
  },
  {
   "cell_type": "markdown",
   "id": "6d814689-3677-405d-8326-06025753bf42",
   "metadata": {},
   "source": [
    "![Sindft plot](dftsin.png)"
   ]
  },
  {
   "cell_type": "markdown",
   "id": "e7069438-94dd-43fb-ab3c-ad28157465eb",
   "metadata": {},
   "source": [
    "Cosinus:"
   ]
  },
  {
   "cell_type": "code",
   "execution_count": null,
   "id": "a86e4794-8d98-475d-b26c-ddf278fdb113",
   "metadata": {},
   "outputs": [],
   "source": [
    "import scikit_build_example as sbe\n",
    "sbe.plot_dft_cosinus(10,1000)"
   ]
  },
  {
   "cell_type": "markdown",
   "id": "395a6cfa-228b-4017-a813-e5077f6ef47a",
   "metadata": {},
   "source": [
    "![dft cos](dftcos.png)"
   ]
  },
  {
   "cell_type": "markdown",
   "id": "073f84c8-717e-474d-bb77-14752b500c99",
   "metadata": {},
   "source": [
    "## Wizualizacja sygnałów o zdanej częstotliwości :\n",
    "\n",
    "sbe.\"function\"(Frequency,Amplitude,num_points,noisy)"
   ]
  },
  {
   "cell_type": "markdown",
   "id": "0f3a58f3-da41-4c27-9167-adcd00e3a359",
   "metadata": {},
   "source": [
    "Sinus 20 Hz:"
   ]
  },
  {
   "cell_type": "code",
   "execution_count": null,
   "id": "6c337295-4521-44f6-9adc-989bbac772e8",
   "metadata": {},
   "outputs": [],
   "source": [
    "import scikit_build_example as sbe\n",
    "sbe.plot_sine_wave(20,5,1000,0)"
   ]
  },
  {
   "cell_type": "markdown",
   "id": "e60cd743-e0bf-4e6c-a632-07064c9a4a77",
   "metadata": {},
   "source": [
    "![sin20hz](sin20hz.png)"
   ]
  },
  {
   "cell_type": "code",
   "execution_count": null,
   "id": "91cf3a1e-b0de-4cec-b18c-ddc6a78379ae",
   "metadata": {},
   "outputs": [],
   "source": [
    "Cosinus 10 Hz:"
   ]
  },
  {
   "cell_type": "code",
   "execution_count": null,
   "id": "94b9ca48-57b7-4ced-914e-b6b7fadcbc36",
   "metadata": {},
   "outputs": [],
   "source": [
    "import scikit_build_example as sbe\n",
    "sbe.plot_cosine_wave(10,10,1000,0)"
   ]
  },
  {
   "cell_type": "markdown",
   "id": "8e8e16a1-440d-479f-855a-4b1df5e62572",
   "metadata": {},
   "source": [
    "![cos10hz](cos10hz.png)"
   ]
  },
  {
   "cell_type": "markdown",
   "id": "fc4cb439-1306-49c4-8c6d-7940d8c23734",
   "metadata": {},
   "source": [
    "Square 10 Hz:"
   ]
  },
  {
   "cell_type": "code",
   "execution_count": null,
   "id": "0146b640-f443-49c0-aa8a-1980b6b5256a",
   "metadata": {},
   "outputs": [],
   "source": [
    "import scikit_build_example as sbe\n",
    "sbe.plot_square(10,5,1000,0)"
   ]
  },
  {
   "cell_type": "markdown",
   "id": "5df95d18-8130-4ae6-830d-a0393f62cc05",
   "metadata": {},
   "source": [
    "![square10hz](square10hz.png)"
   ]
  },
  {
   "cell_type": "markdown",
   "id": "f3f556bb-8103-4a16-9985-1f034c148a93",
   "metadata": {},
   "source": [
    "Sawtooth:"
   ]
  },
  {
   "cell_type": "code",
   "execution_count": null,
   "id": "4186e9da-6f7a-4db4-923c-cba47dc20759",
   "metadata": {},
   "outputs": [],
   "source": [
    "import scikit_build_example as sbe\n",
    "sbe.plot_sawtooth_wave(15,10,1000,0)"
   ]
  },
  {
   "cell_type": "markdown",
   "id": "a011417b-8f9d-4693-9bd7-d06dab7317df",
   "metadata": {},
   "source": [
    "![sawtooth15hz](sawtooth15hz.png)"
   ]
  },
  {
   "cell_type": "markdown",
   "id": "107d4eea-8485-45d8-9c21-0f9a23245bb5",
   "metadata": {},
   "source": [
    "## Signal Noise:\n",
    "\n",
    "sbe.\"function\"(Frequency,Amplitude,num_points,noisy):\n",
    "\n",
    "noise przyjmuje wartość 0 lub 1 --> 0-sygnał niezaszumiony, 1-sygnał zaszumiony"
   ]
  },
  {
   "cell_type": "markdown",
   "id": "7207cfc2-a371-4884-8daa-283a9621f697",
   "metadata": {},
   "source": [
    "Cosinus:"
   ]
  },
  {
   "cell_type": "code",
   "execution_count": null,
   "id": "c1068a6b-af70-42b3-9da2-1bb0c675f2d4",
   "metadata": {},
   "outputs": [],
   "source": [
    "import scikit_build_example as sbe\n",
    "sbe.plot_cosine_wave(10,5,1000,1)"
   ]
  },
  {
   "cell_type": "markdown",
   "id": "25cba69f-093e-410b-a08d-e14bbf71acb6",
   "metadata": {},
   "source": [
    "![cosnoise](cosnoise.png)"
   ]
  },
  {
   "cell_type": "markdown",
   "id": "591c2d4d-001a-434b-8217-034debe20061",
   "metadata": {},
   "source": [
    "Swatooth:"
   ]
  },
  {
   "cell_type": "code",
   "execution_count": null,
   "id": "1e08b60a-72e5-44b0-9a9e-53522b43707a",
   "metadata": {},
   "outputs": [],
   "source": [
    "import scikit_build_example as sbe\n",
    "sbe.plot_swatooth_wave(5,5,1000,1)"
   ]
  },
  {
   "cell_type": "markdown",
   "id": "edd57893-d585-4b72-82c7-b76a82046611",
   "metadata": {},
   "source": [
    "![sawtoothnoise](sawtoothnoise.png)"
   ]
  }
 ],
 "metadata": {
  "kernelspec": {
   "display_name": "Python 3 (ipykernel)",
   "language": "python",
   "name": "python3"
  },
  "language_info": {
   "codemirror_mode": {
    "name": "ipython",
    "version": 3
   },
   "file_extension": ".py",
   "mimetype": "text/x-python",
   "name": "python",
   "nbconvert_exporter": "python",
   "pygments_lexer": "ipython3",
   "version": "3.12.3"
  }
 },
 "nbformat": 4,
 "nbformat_minor": 5
}
